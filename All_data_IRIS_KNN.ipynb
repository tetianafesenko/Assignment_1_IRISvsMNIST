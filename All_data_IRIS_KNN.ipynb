{
  "nbformat": 4,
  "nbformat_minor": 0,
  "metadata": {
    "colab": {
      "provenance": [],
      "include_colab_link": true
    },
    "kernelspec": {
      "name": "python3",
      "display_name": "Python 3"
    },
    "language_info": {
      "name": "python"
    }
  },
  "cells": [
    {
      "cell_type": "markdown",
      "metadata": {
        "id": "view-in-github",
        "colab_type": "text"
      },
      "source": [
        "<a href=\"https://colab.research.google.com/github/tetianafesenko/Assignment_1_IRISvsMNIST/blob/main/All_data_IRIS_KNN.ipynb\" target=\"_parent\"><img src=\"https://colab.research.google.com/assets/colab-badge.svg\" alt=\"Open In Colab\"/></a>"
      ]
    },
    {
      "cell_type": "markdown",
      "source": [
        "# Assignment 1 - Coding a k-NN Algorithm\n",
        "In this assignment we will work with two different datasets:\n",
        "1.  MNIST 🔢\n",
        "2.  Iris Plant Dataset 🪴\n",
        "\n",
        "**Part 1:** Go through all of the code for a simple implementation of the sklearn KNN model using the MNIST dataset. \n",
        "\n",
        "\n",
        "**Part 2:** Reimplement this code but with the [Iris plants dataset](https://scikit-learn.org/stable/datasets/toy_dataset.html). *Hint:* This will involve making modifications to the *load data code block*  \n",
        "\n",
        "**Part 3:** Provide answers to questions 4 & 5 in the Assignment. \n",
        "\n",
        "\n",
        "\n",
        "\n",
        "\n"
      ],
      "metadata": {
        "id": "2noXIoIeOSQX"
      }
    },
    {
      "cell_type": "markdown",
      "source": [
        "Import all of your required libraries. If you run into problems that it says *\"ModuleNotFoundError: No module named 'sktime'\"* you will need to add an additional block above your imports with the following command:\n",
        "\n",
        "\n",
        "> !pip install *missing_module*\n",
        "\n",
        "\n"
      ],
      "metadata": {
        "id": "35CtgrgeOcB4"
      }
    },
    {
      "cell_type": "code",
      "execution_count": 1,
      "metadata": {
        "id": "ESimAJbPMxhh"
      },
      "outputs": [],
      "source": [
        "# import the necessary libraries and packages\n",
        "from __future__ import print_function\n",
        "from sklearn.neighbors import KNeighborsClassifier\n",
        "import sklearn.metrics as metrics\n",
        "from sklearn.metrics import classification_report\n",
        "from sklearn import datasets\n",
        "from skimage import exposure\n",
        "import numpy as np\n",
        "import imutils\n",
        "import cv2\n",
        "import sklearn\n",
        "from sklearn.model_selection import train_test_split\n",
        "import matplotlib.pyplot as plt\n",
        "import pandas as pd\n",
        "from sklearn.datasets import load_iris\n"
      ]
    },
    {
      "cell_type": "markdown",
      "source": [
        "## Import and process your data to get ready to act as inputs to the KNN model\n",
        "\n",
        "\n"
      ],
      "metadata": {
        "id": "bTVCx7zhO93O"
      }
    },
    {
      "cell_type": "code",
      "source": [
        "#Load in data as dataset #1\n",
        "dataset_1 = datasets.load_iris()\n",
        "dataset_name = 'Iris'\n",
        "\n",
        "#######.    HINT    #############\n",
        "# For Q5 you will have to manipulate the variable dataset_1 here\n",
        "#Reassign (1) dataset_1.data and (2) dataset_1.feature_names\n",
        "\n",
        "#look at the shape of your data, the number and name of classes\n",
        "print('The shape of the {} dataset is {}'.format(dataset_name, dataset_1.data.shape))\n",
        "\n",
        "#print('\\nThis means we have {} {} x {} images'.format(dataset_1.images.shape[0], dataset_1.images.shape[1], dataset_1.images.shape[1]))\n",
        "\n",
        "print('\\nThere are {} classes in the {} dataset'.format(len(np.unique(dataset_1.target)), dataset_name))\n",
        "\n",
        "print('\\n The classes in the {} dataset are {}'.format(dataset_name, np.unique(dataset_1.target))) \n",
        "\n"
      ],
      "metadata": {
        "colab": {
          "base_uri": "https://localhost:8080/"
        },
        "id": "YgfO1dDhO9D1",
        "outputId": "f635e097-b2c1-40ec-da42-15c84da0a26e"
      },
      "execution_count": 2,
      "outputs": [
        {
          "output_type": "stream",
          "name": "stdout",
          "text": [
            "The shape of the Iris dataset is (150, 4)\n",
            "\n",
            "There are 3 classes in the Iris dataset\n",
            "\n",
            " The classes in the Iris dataset are [0 1 2]\n"
          ]
        }
      ]
    },
    {
      "cell_type": "code",
      "source": [
        "#######.    HINT    #############\n",
        "# For Q5 you will have to comment this out because the data is tabular rather than image based\n",
        "\n",
        "# Visualize a few  examples of what the data looks like\n",
        "plt.gray()\n",
        "plt.suptitle('Example {} images'.format(dataset_name))\n",
        "for i in range(1,11):\n",
        "  plt.subplot(2,5,i)\n",
        "  #plt.imshow(dataset_1.images[i])"
      ],
      "metadata": {
        "colab": {
          "base_uri": "https://localhost:8080/",
          "height": 294
        },
        "id": "Yt-30wAKa6C9",
        "outputId": "8a97bd00-7d03-43e4-ec2e-e0199cc713ca"
      },
      "execution_count": 3,
      "outputs": [
        {
          "output_type": "display_data",
          "data": {
            "text/plain": [
              "<Figure size 432x288 with 10 Axes>"
            ],
            "image/png": "[encoded data removed]"
          },
          "metadata": {
            "needs_background": "light"
          }
        }
      ]
    },
    {
      "cell_type": "markdown",
      "source": [
        "#### Split the data into train, test, and validation sets"
      ],
      "metadata": {
        "id": "chVCNUTui1r_"
      }
    },
    {
      "cell_type": "code",
      "source": [
        "# take the data and construct the training and testing split, using 75% of the\n",
        "# data for training and 25% for testing\n",
        "(trainData, testData, trainLabels, testLabels) = train_test_split(np.array(dataset_1.data),\n",
        "\tdataset_1.target, test_size=0.25, random_state=42)\n",
        "\n",
        "# now, let's take 10% of the training data and use that for validation\n",
        "(trainData, valData, trainLabels, valLabels) = train_test_split(trainData, trainLabels,\n",
        "\ttest_size=0.1, random_state=84)\n",
        "\n",
        "# show the sizes of each data split\n",
        "print(\"{} training data points: {}\".format(dataset_name, len(trainLabels)))\n",
        "print(\"{} validation data points: {}\".format(dataset_name, len(valLabels)))\n",
        "print(\"{} testing data points: {}\".format(dataset_name, len(testLabels)))\n"
      ],
      "metadata": {
        "colab": {
          "base_uri": "https://localhost:8080/"
        },
        "id": "_d-_o-BmWNUk",
        "outputId": "781c7ce1-49d7-4bd1-f3d2-84f5d981110c"
      },
      "execution_count": 4,
      "outputs": [
        {
          "output_type": "stream",
          "name": "stdout",
          "text": [
            "Iris training data points: 100\n",
            "Iris validation data points: 12\n",
            "Iris testing data points: 38\n"
          ]
        }
      ]
    },
    {
      "cell_type": "markdown",
      "source": [
        "## Find the optimal performance for k on the validation set\n",
        "K is a *hyperparamter* of the KNN model, meaning it needs to be tuned or chosen by the ML practitioner. We do this by evaluating the model on a preliminary validation set"
      ],
      "metadata": {
        "id": "NxT1nDa7O9bu"
      }
    },
    {
      "cell_type": "code",
      "source": [
        "#Create an array of all of the k-values we would like to evaluate \n",
        "k_values = range(1,100)\n",
        "\n",
        "#Create an empty array that will store the accuracy values for each value of k\n",
        "acc_list = []\n",
        "\n",
        "for k in k_values:\n",
        "  #Initialize the KNN model \n",
        "  knn = KNeighborsClassifier(n_neighbors=k)\n",
        "\n",
        "  #Fit the model using the training data\n",
        "  knn.fit(trainData, trainLabels)\n",
        "\n",
        "  #Predict labels for the validation set\n",
        "  pred = knn.predict(valData)\n",
        "\n",
        "  #Evaluate model accuracy and save to a list for later analysis\n",
        "  acc_list.append(metrics.accuracy_score(pred, valLabels))\n"
      ],
      "metadata": {
        "id": "TIXYmJnUjDpk"
      },
      "execution_count": 5,
      "outputs": []
    },
    {
      "cell_type": "code",
      "source": [
        "#Create a plot showing the relationship between the values of k and accuracy\n",
        "plt.title('Validation accuracy at different k-values')\n",
        "plt.xlabel('K value')\n",
        "plt.ylabel('Validation Accuracy')\n",
        "\n",
        "plt.plot(k_values, acc_list)\n",
        "\n",
        "#Find the best value for K to be used for the test set \n",
        "print('The best accuracy was {}'.format(max(acc_list)))\n",
        "idx = np.where(acc_list == np.max(acc_list))\n",
        "print('The K values where the accuracy is highest are {}'.format(idx))\n"
      ],
      "metadata": {
        "id": "Q48hw5Kbl9ac",
        "colab": {
          "base_uri": "https://localhost:8080/",
          "height": 331
        },
        "outputId": "3ece04cd-b8ed-48dd-f153-6a20541dcebe"
      },
      "execution_count": 6,
      "outputs": [
        {
          "output_type": "stream",
          "name": "stdout",
          "text": [
            "The best accuracy was 0.9166666666666666\n",
            "The K values where the accuracy is highest are (array([ 5,  6,  7,  8,  9, 10, 11, 12, 13, 17, 18, 19, 20]),)\n"
          ]
        },
        {
          "output_type": "display_data",
          "data": {
            "text/plain": [
              "<Figure size 432x288 with 1 Axes>"
            ],
            "image/png": "[encoded data removed]"
          },
          "metadata": {
            "needs_background": "light"
          }
        }
      ]
    },
    {
      "cell_type": "markdown",
      "source": [
        "## Test the model with your selected hyperparameters \n",
        "After visual inspection I chose a k-value of 10. Although they are all equal having more points improves model robustness but I can see there is a steep decline in performance after 15."
      ],
      "metadata": {
        "id": "3i3Ftn2kqSiM"
      }
    },
    {
      "cell_type": "code",
      "source": [
        "#Retrain the model with the selected k_value\n",
        "#Initialize the KNN model \n",
        "k=10\n",
        "knn = KNeighborsClassifier(n_neighbors=k)\n",
        "\n",
        "#Fit the model using the training data\n",
        "knn.fit(trainData, trainLabels)\n",
        "\n",
        "#Predict labels for the test set\n",
        "pred_test = knn.predict(testData)\n",
        "test_acc = metrics.accuracy_score(pred_test, testLabels)\n",
        "print('Final test accuracy is {} for {}'.format(test_acc, dataset_name))"
      ],
      "metadata": {
        "id": "v6edV8iprRxQ"
      },
      "execution_count": null,
      "outputs": []
    },
    {
      "cell_type": "markdown",
      "source": [
        "Integrating in Python "
      ],
      "metadata": {
        "id": "PkI9yy6Jx9sb"
      }
    },
    {
      "cell_type": "code",
      "source": [
        "# Section 3, Q6 -- Sample code gratiously provided by Maryam\n",
        "\n",
        "import scipy \n",
        "#We know that Z = (X-Y)^2\n",
        "\n",
        "#Define a function to write out function to calculate integral for E[Z]\n",
        "def z_calc1(x,y):\n",
        "    return pow((x-y),2)\n",
        "\n",
        "#Define a function to write out function to calculate integral for first term of Var = (E[Z])^2\n",
        "def z_calc2(x,y):\n",
        "    return pow(pow((x-y),2),2)\n",
        "\n",
        "#Calculate the E[Z]\n",
        "expected_z = scipy.integrate.dblquad(z_calc1,0, 1,0,1)\n",
        "print(expected_z[0])\n",
        "\n",
        "#Calculate the Variance which is Var[Z] = (E[Z^2]) - (E[Z]) ^2\n",
        "var_z = scipy.integrate.dblquad(z_calc2,0, 1,0,1)[0] - pow(expected_z[0],2)\n",
        "print(var_z)\n"
      ],
      "metadata": {
        "colab": {
          "base_uri": "https://localhost:8080/"
        },
        "id": "7wFk4qrSx_cN",
        "outputId": "8d469d1d-b710-447b-d05e-4588fb13b1c3"
      },
      "execution_count": null,
      "outputs": [
        {
          "output_type": "stream",
          "name": "stdout",
          "text": [
            "0.16666666666666666\n",
            "0.0388888888888889\n"
          ]
        }
      ]
    }
  ]
}