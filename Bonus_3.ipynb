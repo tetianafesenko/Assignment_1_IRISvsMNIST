{
  "nbformat": 4,
  "nbformat_minor": 0,
  "metadata": {
    "colab": {
      "provenance": [],
      "authorship_tag": "ABX9TyMwG3cIeDp8/n+fD9nooMuL",
      "include_colab_link": true
    },
    "kernelspec": {
      "name": "python3",
      "display_name": "Python 3"
    },
    "language_info": {
      "name": "python"
    }
  },
  "cells": [
    {
      "cell_type": "markdown",
      "metadata": {
        "id": "view-in-github",
        "colab_type": "text"
      },
      "source": [
        "<a href=\"https://colab.research.google.com/github/tetianafesenko/Assignment_1_IRISvsMNIST/blob/main/Bonus_3.ipynb\" target=\"_parent\"><img src=\"https://colab.research.google.com/assets/colab-badge.svg\" alt=\"Open In Colab\"/></a>"
      ]
    },
    {
      "cell_type": "markdown",
      "source": [
        "# BONUS Section 3: Math Questions"
      ],
      "metadata": {
        "id": "RYK-dvqfCNj3"
      }
    },
    {
      "cell_type": "code",
      "execution_count": 2,
      "metadata": {
        "id": "v8pVAPXrBR0H"
      },
      "outputs": [],
      "source": [
        "#Import required libraries\n",
        "import numpy as np\n",
        "from scipy.integrate import dblquad\n"
      ]
    },
    {
      "cell_type": "code",
      "source": [
        "# Implement the integrand for E[Z]\n",
        "def integrand_EZ(y, x):\n",
        "    return (x-y)**2"
      ],
      "metadata": {
        "id": "NzNnAMHVBe91"
      },
      "execution_count": 3,
      "outputs": []
    },
    {
      "cell_type": "code",
      "source": [
        "# Implement the integrand for Var[Z]\n",
        "def integrand_VarZ(y, x):\n",
        "    return (x-y)**4"
      ],
      "metadata": {
        "id": "v3YQIp0UBkBm"
      },
      "execution_count": 4,
      "outputs": []
    },
    {
      "cell_type": "code",
      "source": [
        "# Omplement the limits of integration\n",
        "x_limits = [0, 1]\n",
        "y_limits = [0, 1]"
      ],
      "metadata": {
        "id": "5zAd3puvBmwY"
      },
      "execution_count": 5,
      "outputs": []
    },
    {
      "cell_type": "code",
      "source": [
        "# Evaluate the integrals numerically\n",
        "EZ, _ = dblquad(integrand_EZ, y_limits[0], y_limits[1], lambda x: x_limits[0], lambda x: x_limits[1])\n",
        "EZ2, _ = dblquad(integrand_VarZ, y_limits[0], y_limits[1], lambda x: x_limits[0], lambda x: x_limits[1])\n",
        "VarZ = EZ2 - EZ**2"
      ],
      "metadata": {
        "id": "O3sMxlt6BpVa"
      },
      "execution_count": 6,
      "outputs": []
    },
    {
      "cell_type": "code",
      "source": [
        "# Print the final results\n",
        "print(\"E[Z] = \", EZ*2)\n",
        "print(\"Var[Z] = \", VarZ*2)"
      ],
      "metadata": {
        "colab": {
          "base_uri": "https://localhost:8080/"
        },
        "id": "LnMfmH55Br_a",
        "outputId": "b3a58fe0-a42d-4c2f-98ed-87b193b1b0d5"
      },
      "execution_count": 7,
      "outputs": [
        {
          "output_type": "stream",
          "name": "stdout",
          "text": [
            "E[Z] =  0.3333333333333333\n",
            "Var[Z] =  0.07777777777777778\n"
          ]
        }
      ]
    }
  ]
}